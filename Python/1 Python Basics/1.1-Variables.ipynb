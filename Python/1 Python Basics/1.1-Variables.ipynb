{
 "cells": [
  {
   "cell_type": "markdown",
   "metadata": {},
   "source": [
    "### Variables\n",
    "\n",
    "Variables are fundamental elements in programming used to store data that can be referenced and manipulated in a program. In Python, variables are created when you assign a value to them, and they do not need explicit declaration to reserve memory space. The declaration happens automatically when you assign a value to variable.\n",
    "\n",
    "Outline:\n",
    "\n",
    "    1. Introduction to Variables\n",
    "    2. Declaring and Assigning Variables\n",
    "    3. Naming Conventions\n",
    "    4. Understanding Variables Types\n",
    "    5. Type Checking and Conversion\n",
    "    6. Dynamic Typing\n",
    "    7. Practical Examples and Common Errors"
   ]
  },
  {
   "cell_type": "code",
   "execution_count": 1,
   "metadata": {},
   "outputs": [],
   "source": [
    "a=100"
   ]
  },
  {
   "cell_type": "code",
   "execution_count": 4,
   "metadata": {},
   "outputs": [
    {
     "name": "stdout",
     "output_type": "stream",
     "text": [
      "age : 32\n",
      "height: 6.1\n",
      "name Krish\n"
     ]
    }
   ],
   "source": [
    "## Declaring and Assigning Variables\n",
    "age=32\n",
    "height=6.1\n",
    "name=\"Krish\"\n",
    "is_student=True\n",
    "\n",
    "print(\"age :\",age)\n",
    "print(\"height:\",height)\n",
    "print(\"name\",name)\n"
   ]
  },
  {
   "cell_type": "code",
   "execution_count": 5,
   "metadata": {},
   "outputs": [],
   "source": [
    "## Naming Conventions\n",
    "## Variable names should be descriptive\n",
    "## They must always start with a letter or '_' and contain letter,numbers and underscores\n",
    "## Variables names case sensitive\n",
    "\n",
    "#valid variable names\n",
    "first_name=\"Krish\"\n",
    "last_name=\"Naik\""
   ]
  },
  {
   "cell_type": "code",
   "execution_count": 9,
   "metadata": {},
   "outputs": [],
   "source": [
    "## Invalid variable names\n",
    "##2age=30\n",
    "##first-name=\"Krish\"\n",
    "##@name=\"Bappa\""
   ]
  },
  {
   "cell_type": "code",
   "execution_count": 10,
   "metadata": {},
   "outputs": [
    {
     "name": "stdout",
     "output_type": "stream",
     "text": [
      "Krish\n",
      "Naik\n"
     ]
    }
   ],
   "source": [
    "##case sensivity\n",
    "name=\"Krish\"\n",
    "Name=\"Naik\"\n",
    "print(name)\n",
    "print(Name)"
   ]
  },
  {
   "cell_type": "code",
   "execution_count": 12,
   "metadata": {},
   "outputs": [
    {
     "name": "stdout",
     "output_type": "stream",
     "text": [
      "<class 'bool'>\n"
     ]
    }
   ],
   "source": [
    "## Understanding Variable Types\n",
    "## Python is dynamically typed, type of a variable is determined at runtime\n",
    "age=25 ##int\n",
    "height=6.1 ##float\n",
    "name=\"Krish\" ##str\n",
    "is_student=True ##bool\n",
    "\n",
    "print(type(is_student))"
   ]
  }
 ],
 "metadata": {
  "kernelspec": {
   "display_name": "venv",
   "language": "python",
   "name": "python3"
  },
  "language_info": {
   "codemirror_mode": {
    "name": "ipython",
    "version": 3
   },
   "file_extension": ".py",
   "mimetype": "text/x-python",
   "name": "python",
   "nbconvert_exporter": "python",
   "pygments_lexer": "ipython3",
   "version": "3.12.0"
  }
 },
 "nbformat": 4,
 "nbformat_minor": 2
}
